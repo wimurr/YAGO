{
 "cells": [
  {
   "cell_type": "code",
   "execution_count": 1,
   "id": "1f970505",
   "metadata": {},
   "outputs": [
    {
     "name": "stdout",
     "output_type": "stream",
     "text": [
      "/Users/umurrwi/Documents/Coding/Prolog/Semantic_Web/YAGO/YAGO2\n"
     ]
    }
   ],
   "source": [
    "cd /Users/umurrwi/Documents/Coding/Prolog/Semantic_Web/YAGO/YAGO2"
   ]
  },
  {
   "cell_type": "code",
   "execution_count": 2,
   "id": "40b48323",
   "metadata": {},
   "outputs": [],
   "source": [
    "import clean_labels"
   ]
  },
  {
   "cell_type": "code",
   "execution_count": 3,
   "id": "0dbe56fa",
   "metadata": {},
   "outputs": [
    {
     "data": {
      "text/plain": [
       "'/Users/umurrwi/Documents/Coding/Prolog/Semantic_Web/YAGO/YAGO2'"
      ]
     },
     "execution_count": 3,
     "metadata": {},
     "output_type": "execute_result"
    }
   ],
   "source": [
    "pwd"
   ]
  },
  {
   "cell_type": "code",
   "execution_count": 4,
   "id": "954aefb1",
   "metadata": {},
   "outputs": [
    {
     "name": "stdout",
     "output_type": "stream",
     "text": [
      "Clean YAGO Files for Swi-Prolog Reading.ipynb\r\n",
      "\u001b[34m__pycache__\u001b[m\u001b[m/\r\n",
      "clean_labels.py\r\n",
      "demo.pl\r\n",
      "distance.pl\r\n",
      "examples of triples that must be cleaned.txt\r\n",
      "notes.txt\r\n",
      "queries.pl\r\n",
      "regression_tests.txt\r\n",
      "time.pl\r\n",
      "untitled\r\n",
      "utils.pl\r\n",
      "yago.pl\r\n"
     ]
    }
   ],
   "source": [
    "ls"
   ]
  },
  {
   "cell_type": "code",
   "execution_count": 5,
   "id": "201447f0",
   "metadata": {},
   "outputs": [],
   "source": [
    "import re\n",
    "chars_to_strip_out = re.compile(r'[\"`{}<>]')"
   ]
  },
  {
   "cell_type": "code",
   "execution_count": 6,
   "id": "d3741035",
   "metadata": {},
   "outputs": [
    {
     "data": {
      "text/plain": [
       "'parks_in_location'"
      ]
     },
     "execution_count": 6,
     "metadata": {},
     "output_type": "execute_result"
    }
   ],
   "source": [
    "clean_labels.chars_to_strip_out.sub('','parks_in_{{{location')"
   ]
  },
  {
   "cell_type": "code",
   "execution_count": 7,
   "id": "996a404b",
   "metadata": {},
   "outputs": [
    {
     "data": {
      "text/plain": [
       "'wikicategory_Amusement_parks_in_location2'"
      ]
     },
     "execution_count": 7,
     "metadata": {},
     "output_type": "execute_result"
    }
   ],
   "source": [
    "clean_labels.chars_to_strip_out.sub('','<wikicategory_Amusement_parks_in_{{{location2}}}>')"
   ]
  },
  {
   "cell_type": "code",
   "execution_count": 8,
   "id": "b833e923",
   "metadata": {},
   "outputs": [
    {
     "name": "stdout",
     "output_type": "stream",
     "text": [
      "After stripping chars, changed  '<In_Your_Arms_(Love_song_from_\"Neighbours\")>' to '<In_Your_Arms_(Love_song_from_Neighbours)>'.\n",
      "Changed  '<In_Your_Arms_(Love_song_from_\"Neighbours\")>' to '<In_Your_Arms_(Love_song_from_Neighbours)>'.\n",
      "SUCCESS: Cleaned '<In_Your_Arms_(Love_song_from_\"Neighbours\")>' to '<In_Your_Arms_(Love_song_from_Neighbours)>'\n",
      "DONE!\n",
      "Changed  '\"7630000.0\"^^<m^2>' to '\"7630000.0\"^^<m**2>'.\n",
      "WARNING: test_resource_cleanup only tests to see if resources are cleaned properly, this either does not start with or end with angle brackets: '\"7630000.0\"^^<m^2>'.\n",
      "WARNING: test_resource_cleanup only tests to see if resources are cleaned properly, this either does not start with or end with angle brackets: '\"7630000.0\"^^<m**2>'.\n",
      "SUCCESS: Cleaned '\"7630000.0\"^^<m^2>' to '\"7630000.0\"^^<m**2>'\n",
      "DONE!\n",
      "After stripping chars, changed  '<wikicategory_Amusement_parks_in_{{{location2}}}>' to '<wikicategory_Amusement_parks_in_location2>'.\n",
      "Changed  '<wikicategory_Amusement_parks_in_{{{location2}}}>' to '<wikicategory_Amusement_parks_in_location2>'.\n",
      "SUCCESS: Cleaned '<wikicategory_Amusement_parks_in_{{{location2}}}>' to '<wikicategory_Amusement_parks_in_location2>'\n",
      "DONE!\n",
      "After stripping chars, changed  '<Sufyan_ibn_`Uyaynah>' to '<Sufyan_ibn_Uyaynah>'.\n",
      "Changed  '<Sufyan_ibn_`Uyaynah>' to '<Sufyan_ibn_Uyaynah>'.\n",
      "SUCCESS: Cleaned '<Sufyan_ibn_`Uyaynah>' to '<Sufyan_ibn_Uyaynah>'\n",
      "DONE!\n",
      "After stripping chars, changed  '<wikicategory_People_from_Ballarat</text>\n",
      "______<sha1_/>\n",
      "____</revision>\n",
      "__</page>' to '<wikicategory_People_from_Ballarat/text\n",
      "______sha1_/\n",
      "____/revision\n",
      "__/page>'.\n",
      "After replacing '\n",
      "' for '', changed  '<wikicategory_People_from_Ballarat</text>\n",
      "______<sha1_/>\n",
      "____</revision>\n",
      "__</page>' to 'wikicategory_People_from_Ballarat/text\n",
      "______sha1_/\n",
      "____/revision\n",
      "__/page'.\n",
      "Changed  '<wikicategory_People_from_Ballarat</text>\n",
      "______<sha1_/>\n",
      "____</revision>\n",
      "__</page>' to '<wikicategory_People_from_Ballarat/text_sha1_/_/revision_/page>'.\n",
      "SUCCESS: Cleaned '<wikicategory_People_from_Ballarat</text>\n",
      "______<sha1_/>\n",
      "____</revision>\n",
      "__</page>' to '<wikicategory_People_from_Ballarat/text_sha1_/_/revision_/page>'\n",
      "DONE!\n"
     ]
    }
   ],
   "source": [
    "clean_labels.test_resource_cleanup()"
   ]
  },
  {
   "cell_type": "code",
   "execution_count": null,
   "id": "3ea23ded",
   "metadata": {},
   "outputs": [],
   "source": []
  },
  {
   "cell_type": "code",
   "execution_count": 9,
   "id": "009c8b7b",
   "metadata": {
    "scrolled": false
   },
   "outputs": [
    {
     "name": "stdout",
     "output_type": "stream",
     "text": [
      "\n",
      "\n",
      "Cleaning file: yagoFacts.ttl to cleaned_yagoFacts.ttl\n",
      "\n",
      "\n",
      "\n",
      "\n",
      "Cleaning file: yagoGeonamesGlosses.ttl to cleaned_yagoGeonamesGlosses.ttl\n",
      "\n",
      "\n",
      "\n",
      "\n",
      "Cleaning file: yagoGeonamesEntityIds.ttl to cleaned_yagoGeonamesEntityIds.ttl\n",
      "\n",
      "\n",
      "Skipping over file yagoSources.ttl, as it is one of the files to exclude.\n",
      "\n",
      "\n",
      "Cleaning file: yagoSimpleTaxonomy.ttl to cleaned_yagoSimpleTaxonomy.ttl\n",
      "\n",
      "\n",
      "\n",
      "\n",
      "Cleaning file: yagoDBpediaClasses.ttl to cleaned_yagoDBpediaClasses.ttl\n",
      "\n",
      "\n",
      "\n",
      "\n",
      "Cleaning file: yagoGeonamesClasses.ttl to cleaned_yagoGeonamesClasses.ttl\n",
      "\n",
      "\n",
      "\n",
      "\n",
      "Cleaning file: yagoWordnetIds.ttl to cleaned_yagoWordnetIds.ttl\n",
      "\n",
      "\n",
      "\n",
      "\n",
      "Cleaning file: yagoGeonamesData.ttl to cleaned_yagoGeonamesData.ttl\n",
      "\n",
      "\n",
      "\n",
      "\n",
      "Cleaning file: yagoWordnetDomains.ttl to cleaned_yagoWordnetDomains.ttl\n",
      "\n",
      "\n",
      "\n",
      "\n",
      "Cleaning file: yagoDBpediaInstances.ttl to cleaned_yagoDBpediaInstances.ttl\n",
      "\n",
      "\n",
      "\n",
      "\n",
      "Cleaning file: yagoMultilingualInstanceLabels.ttl to cleaned_yagoMultilingualInstanceLabels.ttl\n",
      "\n",
      "\n",
      "\n",
      "\n",
      "Cleaning file: yagoSimpleTypes.ttl to cleaned_yagoSimpleTypes.ttl\n",
      "\n",
      "\n",
      "\n",
      "\n",
      "Cleaning file: yagoTaxonomy.ttl to cleaned_yagoTaxonomy.ttl\n",
      "\n",
      "\n",
      "\n",
      "\n",
      "Cleaning file: yagoLiteralFacts.ttl to cleaned_yagoLiteralFacts.ttl\n",
      "\n",
      "\n",
      "\n",
      "\n",
      "Cleaning file: yagoLabels.ttl to cleaned_yagoLabels.ttl\n",
      "\n",
      "\n",
      "\n",
      "\n",
      "Cleaning file: yagoSchema.ttl to cleaned_yagoSchema.ttl\n",
      "\n",
      "\n",
      "\n",
      "\n",
      "Cleaning file: yagoGeonamesClassIds.ttl to cleaned_yagoGeonamesClassIds.ttl\n",
      "\n",
      "\n",
      "\n",
      "\n",
      "Cleaning file: yagoImportantTypes.ttl to cleaned_yagoImportantTypes.ttl\n",
      "\n",
      "\n",
      "\n",
      "\n",
      "Cleaning file: yagoMultilingualClassLabels.ttl to cleaned_yagoMultilingualClassLabels.ttl\n",
      "\n",
      "\n",
      "\n",
      "\n",
      "Cleaning file: yagoTypes.ttl to cleaned_yagoTypes.ttl\n",
      "\n",
      "\n",
      "\n",
      "\n",
      "Cleaning file: yagoStatistics.ttl to cleaned_yagoStatistics.ttl\n",
      "\n",
      "\n",
      "\n",
      "\n",
      "Cleaning file: yagoTransitiveType.ttl to cleaned_yagoTransitiveType.ttl\n",
      "\n",
      "\n",
      "\n",
      "\n",
      "Cleaning file: yagoMetaFacts.ttl to cleaned_yagoMetaFacts.ttl\n",
      "\n",
      "\n",
      "\n",
      "\n",
      "Cleaning file: yagoWikipediaInfo.ttl to cleaned_yagoWikipediaInfo.ttl\n",
      "\n",
      "\n",
      "Took 603.25 sec.\n"
     ]
    }
   ],
   "source": [
    "# clean_labels.cleanup(pattern='yago*.ttl')\n",
    "clean_labels.cleanup(pattern='yago*.ttl', tracing=False)"
   ]
  },
  {
   "cell_type": "code",
   "execution_count": 10,
   "id": "41669efa",
   "metadata": {},
   "outputs": [
    {
     "data": {
      "text/plain": [
       "'foo bar'"
      ]
     },
     "execution_count": 10,
     "metadata": {},
     "output_type": "execute_result"
    }
   ],
   "source": [
    "\" foo bar    \".strip()\n"
   ]
  },
  {
   "cell_type": "code",
   "execution_count": null,
   "id": "251b4148",
   "metadata": {},
   "outputs": [],
   "source": []
  }
 ],
 "metadata": {
  "kernelspec": {
   "display_name": "Python 3",
   "language": "python",
   "name": "python3"
  },
  "language_info": {
   "codemirror_mode": {
    "name": "ipython",
    "version": 3
   },
   "file_extension": ".py",
   "mimetype": "text/x-python",
   "name": "python",
   "nbconvert_exporter": "python",
   "pygments_lexer": "ipython3",
   "version": "3.9.12"
  }
 },
 "nbformat": 4,
 "nbformat_minor": 5
}
